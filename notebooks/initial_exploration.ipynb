{
 "cells": [
  {
   "cell_type": "code",
   "execution_count": 52,
   "metadata": {},
   "outputs": [],
   "source": [
    "import pandas as pd\n",
    "\n",
    "import matplotlib.pyplot as plt\n",
    "%matplotlib inline\n",
    "\n",
    "import re"
   ]
  },
  {
   "cell_type": "code",
   "execution_count": 53,
   "metadata": {},
   "outputs": [],
   "source": [
    "data = pd.read_csv('data/furlough-feelings-april-2020.csv')"
   ]
  },
  {
   "cell_type": "code",
   "execution_count": 54,
   "metadata": {},
   "outputs": [
    {
     "data": {
      "text/html": [
       "<div>\n",
       "<style scoped>\n",
       "    .dataframe tbody tr th:only-of-type {\n",
       "        vertical-align: middle;\n",
       "    }\n",
       "\n",
       "    .dataframe tbody tr th {\n",
       "        vertical-align: top;\n",
       "    }\n",
       "\n",
       "    .dataframe thead th {\n",
       "        text-align: right;\n",
       "    }\n",
       "</style>\n",
       "<table border=\"1\" class=\"dataframe\">\n",
       "  <thead>\n",
       "    <tr style=\"text-align: right;\">\n",
       "      <th></th>\n",
       "      <th>Have you been furloughed?</th>\n",
       "      <th>Overall, are you finding being furloughed a positive experience?</th>\n",
       "      <th>That's great to hear, can you tell me why you're enjoying it?</th>\n",
       "      <th>Are you now working as part of a scaled back team, whilst your colleagues are furloughed?</th>\n",
       "      <th>Overall, are you finding being part of scaled-back, caretaker team a positive experience?</th>\n",
       "      <th>I'm sorry to hear that, can you tell me why it's not a positive experience?</th>\n",
       "      <th>Have you learned anything new about yourself?</th>\n",
       "      <th>What would help you most right now?</th>\n",
       "      <th>That's really good to hear, why do you think that is?</th>\n",
       "      <th>Submitted At</th>\n",
       "      <th>Token</th>\n",
       "    </tr>\n",
       "  </thead>\n",
       "  <tbody>\n",
       "    <tr>\n",
       "      <th>0</th>\n",
       "      <td>True</td>\n",
       "      <td>True</td>\n",
       "      <td>I’m feel like I now have the time to invest in...</td>\n",
       "      <td>NaN</td>\n",
       "      <td>NaN</td>\n",
       "      <td>NaN</td>\n",
       "      <td>I enjoy being at home more than I thought.</td>\n",
       "      <td>NaN</td>\n",
       "      <td>NaN</td>\n",
       "      <td>4/5/2020 15:39:56</td>\n",
       "      <td>q7ygqc0wetve1pgq7998ef1l3h3ghomc</td>\n",
       "    </tr>\n",
       "    <tr>\n",
       "      <th>1</th>\n",
       "      <td>True</td>\n",
       "      <td>True</td>\n",
       "      <td>I have lots of creative pursuits that I often ...</td>\n",
       "      <td>NaN</td>\n",
       "      <td>NaN</td>\n",
       "      <td>NaN</td>\n",
       "      <td>I'm definitely obsessively productive! If I ha...</td>\n",
       "      <td>NaN</td>\n",
       "      <td>NaN</td>\n",
       "      <td>4/5/2020 16:03:20</td>\n",
       "      <td>qsle0bp9xi6c9n0nic0qsle0ma3xovzq</td>\n",
       "    </tr>\n",
       "    <tr>\n",
       "      <th>2</th>\n",
       "      <td>True</td>\n",
       "      <td>False</td>\n",
       "      <td>NaN</td>\n",
       "      <td>NaN</td>\n",
       "      <td>NaN</td>\n",
       "      <td>Feeling very useless and often times even wort...</td>\n",
       "      <td>NaN</td>\n",
       "      <td>Hmmm...good question. I've been asking myself ...</td>\n",
       "      <td>NaN</td>\n",
       "      <td>4/5/2020 18:55:11</td>\n",
       "      <td>ia3cphe6oj1358lw2hnmia3cphry4t6x</td>\n",
       "    </tr>\n",
       "    <tr>\n",
       "      <th>3</th>\n",
       "      <td>True</td>\n",
       "      <td>True</td>\n",
       "      <td>I have more time to study, I am able to spend ...</td>\n",
       "      <td>NaN</td>\n",
       "      <td>NaN</td>\n",
       "      <td>NaN</td>\n",
       "      <td>Yes I do need structure, so I have to plan eac...</td>\n",
       "      <td>NaN</td>\n",
       "      <td>NaN</td>\n",
       "      <td>4/5/2020 21:16:39</td>\n",
       "      <td>d7x57388oj9pfzwzwod7x5738uex2vna</td>\n",
       "    </tr>\n",
       "    <tr>\n",
       "      <th>4</th>\n",
       "      <td>True</td>\n",
       "      <td>True</td>\n",
       "      <td>Recently moved house so I am very busy. I am n...</td>\n",
       "      <td>NaN</td>\n",
       "      <td>NaN</td>\n",
       "      <td>NaN</td>\n",
       "      <td>I took things for granted and can be impatient...</td>\n",
       "      <td>NaN</td>\n",
       "      <td>NaN</td>\n",
       "      <td>4/6/2020 6:46:19</td>\n",
       "      <td>08h6epyvgp4h1722y08h6epy986gkfnt</td>\n",
       "    </tr>\n",
       "  </tbody>\n",
       "</table>\n",
       "</div>"
      ],
      "text/plain": [
       "   Have you been furloughed?  \\\n",
       "0                       True   \n",
       "1                       True   \n",
       "2                       True   \n",
       "3                       True   \n",
       "4                       True   \n",
       "\n",
       "  Overall, are you finding being furloughed a positive experience?  \\\n",
       "0                                               True                 \n",
       "1                                               True                 \n",
       "2                                              False                 \n",
       "3                                               True                 \n",
       "4                                               True                 \n",
       "\n",
       "  That's great to hear, can you tell me why you're enjoying it?  \\\n",
       "0  I’m feel like I now have the time to invest in...              \n",
       "1  I have lots of creative pursuits that I often ...              \n",
       "2                                                NaN              \n",
       "3  I have more time to study, I am able to spend ...              \n",
       "4  Recently moved house so I am very busy. I am n...              \n",
       "\n",
       "  Are you now working as part of a scaled back team, whilst your colleagues are furloughed?  \\\n",
       "0                                                NaN                                          \n",
       "1                                                NaN                                          \n",
       "2                                                NaN                                          \n",
       "3                                                NaN                                          \n",
       "4                                                NaN                                          \n",
       "\n",
       "  Overall, are you finding being part of scaled-back, caretaker team a positive experience?  \\\n",
       "0                                                NaN                                          \n",
       "1                                                NaN                                          \n",
       "2                                                NaN                                          \n",
       "3                                                NaN                                          \n",
       "4                                                NaN                                          \n",
       "\n",
       "  I'm sorry to hear that, can you tell me why it's not a positive experience?  \\\n",
       "0                                                NaN                            \n",
       "1                                                NaN                            \n",
       "2  Feeling very useless and often times even wort...                            \n",
       "3                                                NaN                            \n",
       "4                                                NaN                            \n",
       "\n",
       "       Have you learned anything new about yourself?  \\\n",
       "0         I enjoy being at home more than I thought.   \n",
       "1  I'm definitely obsessively productive! If I ha...   \n",
       "2                                                NaN   \n",
       "3  Yes I do need structure, so I have to plan eac...   \n",
       "4  I took things for granted and can be impatient...   \n",
       "\n",
       "                 What would help you most right now?  \\\n",
       "0                                                NaN   \n",
       "1                                                NaN   \n",
       "2  Hmmm...good question. I've been asking myself ...   \n",
       "3                                                NaN   \n",
       "4                                                NaN   \n",
       "\n",
       "  That's really good to hear, why do you think that is?       Submitted At  \\\n",
       "0                                                NaN     4/5/2020 15:39:56   \n",
       "1                                                NaN     4/5/2020 16:03:20   \n",
       "2                                                NaN     4/5/2020 18:55:11   \n",
       "3                                                NaN     4/5/2020 21:16:39   \n",
       "4                                                NaN      4/6/2020 6:46:19   \n",
       "\n",
       "                              Token  \n",
       "0  q7ygqc0wetve1pgq7998ef1l3h3ghomc  \n",
       "1  qsle0bp9xi6c9n0nic0qsle0ma3xovzq  \n",
       "2  ia3cphe6oj1358lw2hnmia3cphry4t6x  \n",
       "3  d7x57388oj9pfzwzwod7x5738uex2vna  \n",
       "4  08h6epyvgp4h1722y08h6epy986gkfnt  "
      ]
     },
     "execution_count": 54,
     "metadata": {},
     "output_type": "execute_result"
    }
   ],
   "source": [
    "data.head()"
   ]
  },
  {
   "cell_type": "code",
   "execution_count": 55,
   "metadata": {},
   "outputs": [
    {
     "data": {
      "text/plain": [
       "<matplotlib.axes._subplots.AxesSubplot at 0x139bd2450>"
      ]
     },
     "execution_count": 55,
     "metadata": {},
     "output_type": "execute_result"
    },
    {
     "data": {
      "image/png": "[encoded data removed]",
      "text/plain": [
       "<Figure size 432x288 with 1 Axes>"
      ]
     },
     "metadata": {
      "needs_background": "light"
     },
     "output_type": "display_data"
    }
   ],
   "source": [
    "data['Have you been furloughed?'].value_counts().plot.bar()"
   ]
  },
  {
   "cell_type": "code",
   "execution_count": 56,
   "metadata": {},
   "outputs": [
    {
     "data": {
      "text/plain": [
       "<matplotlib.axes._subplots.AxesSubplot at 0x139d7cdd0>"
      ]
     },
     "execution_count": 56,
     "metadata": {},
     "output_type": "execute_result"
    },
    {
     "data": {
      "image/png": "[encoded data removed]",
      "text/plain": [
       "<Figure size 432x288 with 1 Axes>"
      ]
     },
     "metadata": {
      "needs_background": "light"
     },
     "output_type": "display_data"
    }
   ],
   "source": [
    "data['Overall, are you finding being furloughed a positive experience?'].value_counts().plot.bar()"
   ]
  },
  {
   "cell_type": "code",
   "execution_count": 57,
   "metadata": {},
   "outputs": [
    {
     "data": {
      "text/plain": [
       "<matplotlib.axes._subplots.AxesSubplot at 0x139e0e110>"
      ]
     },
     "execution_count": 57,
     "metadata": {},
     "output_type": "execute_result"
    },
    {
     "data": {
      "image/png": "[encoded data removed]",
      "text/plain": [
       "<Figure size 432x288 with 1 Axes>"
      ]
     },
     "metadata": {
      "needs_background": "light"
     },
     "output_type": "display_data"
    }
   ],
   "source": [
    "data['Overall, are you finding being part of scaled-back, caretaker team a positive experience?'].value_counts().plot.bar()"
   ]
  },
  {
   "cell_type": "code",
   "execution_count": 77,
   "metadata": {},
   "outputs": [
    {
     "name": "stdout",
     "output_type": "stream",
     "text": [
      "52\n"
     ]
    }
   ],
   "source": [
    "why_enjoying_it = data.iloc[:,[2,10]]\n",
    "why_enjoying_it.columns = ['text', 'token']\n",
    "why_enjoying_it = why_enjoying_it.dropna()\n",
    "print(len(why_enjoying_it))"
   ]
  },
  {
   "cell_type": "code",
   "execution_count": 61,
   "metadata": {},
   "outputs": [
    {
     "name": "stdout",
     "output_type": "stream",
     "text": [
      "28\n"
     ]
    }
   ],
   "source": [
    "why_not_positive = data.iloc[:,[5,10]]\n",
    "why_not_positive.columns = ['text', 'token']\n",
    "why_not_positive = why_not_positive.dropna()\n",
    "print(len(why_not_positive))"
   ]
  },
  {
   "cell_type": "code",
   "execution_count": 72,
   "metadata": {},
   "outputs": [
    {
     "name": "stdout",
     "output_type": "stream",
     "text": [
      "52\n"
     ]
    }
   ],
   "source": [
    "learned_anything = data.iloc[:,[6,10]]\n",
    "learned_anything.columns = ['text', 'token']\n",
    "learned_anything = learned_anything.dropna()\n",
    "print(len(learned_anything))"
   ]
  },
  {
   "cell_type": "code",
   "execution_count": 73,
   "metadata": {},
   "outputs": [
    {
     "name": "stdout",
     "output_type": "stream",
     "text": [
      "28\n"
     ]
    }
   ],
   "source": [
    "what_would_help_you = data.iloc[:,[7,10]]\n",
    "what_would_help_you.columns = ['text', 'token']\n",
    "what_would_help_you = what_would_help_you.dropna()\n",
    "print(len(what_would_help_you))"
   ]
  },
  {
   "cell_type": "code",
   "execution_count": 75,
   "metadata": {},
   "outputs": [
    {
     "name": "stdout",
     "output_type": "stream",
     "text": [
      "16\n"
     ]
    }
   ],
   "source": [
    "what_think_that_is = data.iloc[:,[8,10]]\n",
    "what_think_that_is.columns = ['text', 'token']\n",
    "what_think_that_is = what_think_that_is.dropna()\n",
    "print(len(what_think_that_is))"
   ]
  },
  {
   "cell_type": "code",
   "execution_count": 65,
   "metadata": {},
   "outputs": [
    {
     "data": {
      "text/html": [
       "<div>\n",
       "<style scoped>\n",
       "    .dataframe tbody tr th:only-of-type {\n",
       "        vertical-align: middle;\n",
       "    }\n",
       "\n",
       "    .dataframe tbody tr th {\n",
       "        vertical-align: top;\n",
       "    }\n",
       "\n",
       "    .dataframe thead th {\n",
       "        text-align: right;\n",
       "    }\n",
       "</style>\n",
       "<table border=\"1\" class=\"dataframe\">\n",
       "  <thead>\n",
       "    <tr style=\"text-align: right;\">\n",
       "      <th></th>\n",
       "      <th>text</th>\n",
       "      <th>token</th>\n",
       "    </tr>\n",
       "  </thead>\n",
       "  <tbody>\n",
       "    <tr>\n",
       "      <th>2</th>\n",
       "      <td>Feeling very useless and often times even wort...</td>\n",
       "      <td>ia3cphe6oj1358lw2hnmia3cphry4t6x</td>\n",
       "    </tr>\n",
       "    <tr>\n",
       "      <th>6</th>\n",
       "      <td>I feel without purpose. Disappointed not to be...</td>\n",
       "      <td>k65zamkqx4hd9npk65s5r6llry7m2a4d</td>\n",
       "    </tr>\n",
       "    <tr>\n",
       "      <th>14</th>\n",
       "      <td>Uncertainty, lack of routine and purpose</td>\n",
       "      <td>yarbka7gdvbfpnufyarl107hyox3f4dc</td>\n",
       "    </tr>\n",
       "    <tr>\n",
       "      <th>15</th>\n",
       "      <td>I miss working, day to day interactions with p...</td>\n",
       "      <td>cez4n2ji6xhuugapbcez4n7131ndsvxm</td>\n",
       "    </tr>\n",
       "    <tr>\n",
       "      <th>22</th>\n",
       "      <td>Unsettled. Knowing there are people and work a...</td>\n",
       "      <td>ol61crh8x6vlp8ol61cl8jedy6we0lnc</td>\n",
       "    </tr>\n",
       "  </tbody>\n",
       "</table>\n",
       "</div>"
      ],
      "text/plain": [
       "                                                 text  \\\n",
       "2   Feeling very useless and often times even wort...   \n",
       "6   I feel without purpose. Disappointed not to be...   \n",
       "14           Uncertainty, lack of routine and purpose   \n",
       "15  I miss working, day to day interactions with p...   \n",
       "22  Unsettled. Knowing there are people and work a...   \n",
       "\n",
       "                               token  \n",
       "2   ia3cphe6oj1358lw2hnmia3cphry4t6x  \n",
       "6   k65zamkqx4hd9npk65s5r6llry7m2a4d  \n",
       "14  yarbka7gdvbfpnufyarl107hyox3f4dc  \n",
       "15  cez4n2ji6xhuugapbcez4n7131ndsvxm  \n",
       "22  ol61crh8x6vlp8ol61cl8jedy6we0lnc  "
      ]
     },
     "execution_count": 65,
     "metadata": {},
     "output_type": "execute_result"
    }
   ],
   "source": [
    "why_not_positive.head()"
   ]
  },
  {
   "cell_type": "markdown",
   "metadata": {},
   "source": [
    "### Why not positive text reponse analysis and cleaning"
   ]
  },
  {
   "cell_type": "code",
   "execution_count": 66,
   "metadata": {},
   "outputs": [
    {
     "data": {
      "text/html": [
       "<div>\n",
       "<style scoped>\n",
       "    .dataframe tbody tr th:only-of-type {\n",
       "        vertical-align: middle;\n",
       "    }\n",
       "\n",
       "    .dataframe tbody tr th {\n",
       "        vertical-align: top;\n",
       "    }\n",
       "\n",
       "    .dataframe thead th {\n",
       "        text-align: right;\n",
       "    }\n",
       "</style>\n",
       "<table border=\"1\" class=\"dataframe\">\n",
       "  <thead>\n",
       "    <tr style=\"text-align: right;\">\n",
       "      <th></th>\n",
       "      <th>text</th>\n",
       "      <th>token</th>\n",
       "    </tr>\n",
       "  </thead>\n",
       "  <tbody>\n",
       "    <tr>\n",
       "      <th>2</th>\n",
       "      <td>feeling very useless and often times even wort...</td>\n",
       "      <td>ia3cphe6oj1358lw2hnmia3cphry4t6x</td>\n",
       "    </tr>\n",
       "    <tr>\n",
       "      <th>6</th>\n",
       "      <td>i feel without purpose disappointed not to be ...</td>\n",
       "      <td>k65zamkqx4hd9npk65s5r6llry7m2a4d</td>\n",
       "    </tr>\n",
       "    <tr>\n",
       "      <th>14</th>\n",
       "      <td>uncertainty lack of routine and purpose</td>\n",
       "      <td>yarbka7gdvbfpnufyarl107hyox3f4dc</td>\n",
       "    </tr>\n",
       "    <tr>\n",
       "      <th>15</th>\n",
       "      <td>i miss working day to day interactions with pe...</td>\n",
       "      <td>cez4n2ji6xhuugapbcez4n7131ndsvxm</td>\n",
       "    </tr>\n",
       "    <tr>\n",
       "      <th>22</th>\n",
       "      <td>unsettled knowing there are people and work an...</td>\n",
       "      <td>ol61crh8x6vlp8ol61cl8jedy6we0lnc</td>\n",
       "    </tr>\n",
       "  </tbody>\n",
       "</table>\n",
       "</div>"
      ],
      "text/plain": [
       "                                                 text  \\\n",
       "2   feeling very useless and often times even wort...   \n",
       "6   i feel without purpose disappointed not to be ...   \n",
       "14            uncertainty lack of routine and purpose   \n",
       "15  i miss working day to day interactions with pe...   \n",
       "22  unsettled knowing there are people and work an...   \n",
       "\n",
       "                               token  \n",
       "2   ia3cphe6oj1358lw2hnmia3cphry4t6x  \n",
       "6   k65zamkqx4hd9npk65s5r6llry7m2a4d  \n",
       "14  yarbka7gdvbfpnufyarl107hyox3f4dc  \n",
       "15  cez4n2ji6xhuugapbcez4n7131ndsvxm  \n",
       "22  ol61crh8x6vlp8ol61cl8jedy6we0lnc  "
      ]
     },
     "execution_count": 66,
     "metadata": {},
     "output_type": "execute_result"
    }
   ],
   "source": [
    "def  clean_text(df, text_field):\n",
    "    df[text_field] = df[text_field].str.lower()\n",
    "    df[text_field] = df[text_field].apply(lambda elem: re.sub(r\"(@[A-Za-z0-9]+)|([^0-9A-Za-z \\t])|(\\w+:\\/\\/\\S+)|^rt|http.+?\", \"\", elem))  \n",
    "    return df\n",
    "\n",
    "why_not_positive = clean_text(why_not_positive, \"text\")\n",
    "why_not_positive.head()"
   ]
  },
  {
   "cell_type": "code",
   "execution_count": 67,
   "metadata": {},
   "outputs": [
    {
     "name": "stderr",
     "output_type": "stream",
     "text": [
      "[nltk_data] Downloading package stopwords to\n",
      "[nltk_data]     /Users/rebecca.vickery/nltk_data...\n",
      "[nltk_data]   Package stopwords is already up-to-date!\n"
     ]
    },
    {
     "data": {
      "text/plain": [
       "True"
      ]
     },
     "execution_count": 67,
     "metadata": {},
     "output_type": "execute_result"
    }
   ],
   "source": [
    "import nltk.corpus\n",
    "nltk.download('stopwords')"
   ]
  },
  {
   "cell_type": "code",
   "execution_count": 68,
   "metadata": {},
   "outputs": [
    {
     "data": {
      "text/html": [
       "<div>\n",
       "<style scoped>\n",
       "    .dataframe tbody tr th:only-of-type {\n",
       "        vertical-align: middle;\n",
       "    }\n",
       "\n",
       "    .dataframe tbody tr th {\n",
       "        vertical-align: top;\n",
       "    }\n",
       "\n",
       "    .dataframe thead th {\n",
       "        text-align: right;\n",
       "    }\n",
       "</style>\n",
       "<table border=\"1\" class=\"dataframe\">\n",
       "  <thead>\n",
       "    <tr style=\"text-align: right;\">\n",
       "      <th></th>\n",
       "      <th>text</th>\n",
       "      <th>token</th>\n",
       "    </tr>\n",
       "  </thead>\n",
       "  <tbody>\n",
       "    <tr>\n",
       "      <th>2</th>\n",
       "      <td>feeling useless often times even worthless im ...</td>\n",
       "      <td>ia3cphe6oj1358lw2hnmia3cphry4t6x</td>\n",
       "    </tr>\n",
       "    <tr>\n",
       "      <th>6</th>\n",
       "      <td>feel without purpose disappointed useful enoug...</td>\n",
       "      <td>k65zamkqx4hd9npk65s5r6llry7m2a4d</td>\n",
       "    </tr>\n",
       "    <tr>\n",
       "      <th>14</th>\n",
       "      <td>uncertainty lack routine purpose</td>\n",
       "      <td>yarbka7gdvbfpnufyarl107hyox3f4dc</td>\n",
       "    </tr>\n",
       "    <tr>\n",
       "      <th>15</th>\n",
       "      <td>miss working day day interactions people feeli...</td>\n",
       "      <td>cez4n2ji6xhuugapbcez4n7131ndsvxm</td>\n",
       "    </tr>\n",
       "    <tr>\n",
       "      <th>22</th>\n",
       "      <td>unsettled knowing people work needed keeping e...</td>\n",
       "      <td>ol61crh8x6vlp8ol61cl8jedy6we0lnc</td>\n",
       "    </tr>\n",
       "  </tbody>\n",
       "</table>\n",
       "</div>"
      ],
      "text/plain": [
       "                                                 text  \\\n",
       "2   feeling useless often times even worthless im ...   \n",
       "6   feel without purpose disappointed useful enoug...   \n",
       "14                   uncertainty lack routine purpose   \n",
       "15  miss working day day interactions people feeli...   \n",
       "22  unsettled knowing people work needed keeping e...   \n",
       "\n",
       "                               token  \n",
       "2   ia3cphe6oj1358lw2hnmia3cphry4t6x  \n",
       "6   k65zamkqx4hd9npk65s5r6llry7m2a4d  \n",
       "14  yarbka7gdvbfpnufyarl107hyox3f4dc  \n",
       "15  cez4n2ji6xhuugapbcez4n7131ndsvxm  \n",
       "22  ol61crh8x6vlp8ol61cl8jedy6we0lnc  "
      ]
     },
     "execution_count": 68,
     "metadata": {},
     "output_type": "execute_result"
    }
   ],
   "source": [
    "from nltk.corpus import stopwords\n",
    "stop = stopwords.words('english')\n",
    "why_not_positive['text'] = why_not_positive['text'].apply(lambda x: ' '.join([word for word in x.split() if word not in (stop)]))\n",
    "why_not_positive.head()"
   ]
  },
  {
   "cell_type": "code",
   "execution_count": 84,
   "metadata": {},
   "outputs": [
    {
     "data": {
      "image/png": "[encoded data removed]",
      "text/plain": [
       "<Figure size 1080x720 with 1 Axes>"
      ]
     },
     "metadata": {
      "needs_background": "light"
     },
     "output_type": "display_data"
    },
    {
     "data": {
      "text/plain": [
       "<matplotlib.axes._subplots.AxesSubplot at 0x13aceb650>"
      ]
     },
     "execution_count": 84,
     "metadata": {},
     "output_type": "execute_result"
    }
   ],
   "source": [
    "import matplotlib.pyplot as plt\n",
    "%matplotlib inline\n",
    "from sklearn.feature_extraction.text import CountVectorizer\n",
    "from yellowbrick.text import FreqDistVisualizer\n",
    "vectorizer = CountVectorizer()\n",
    "docs       = vectorizer.fit_transform(why_not_positive['text'])\n",
    "features   = vectorizer.get_feature_names()\n",
    "visualizer = FreqDistVisualizer(features=features, orient='v', size=(1080, 720), title='Frequency of top 50 occurring words in responses to: Im sorry to hear that, can you tell me why its not a positive experience?')\n",
    "visualizer.fit(docs)\n",
    "visualizer.show()"
   ]
  },
  {
   "cell_type": "markdown",
   "metadata": {},
   "source": [
    "### Why enjoying it text reponse analysis and cleaning"
   ]
  },
  {
   "cell_type": "code",
   "execution_count": 78,
   "metadata": {},
   "outputs": [
    {
     "data": {
      "text/html": [
       "<div>\n",
       "<style scoped>\n",
       "    .dataframe tbody tr th:only-of-type {\n",
       "        vertical-align: middle;\n",
       "    }\n",
       "\n",
       "    .dataframe tbody tr th {\n",
       "        vertical-align: top;\n",
       "    }\n",
       "\n",
       "    .dataframe thead th {\n",
       "        text-align: right;\n",
       "    }\n",
       "</style>\n",
       "<table border=\"1\" class=\"dataframe\">\n",
       "  <thead>\n",
       "    <tr style=\"text-align: right;\">\n",
       "      <th></th>\n",
       "      <th>text</th>\n",
       "      <th>token</th>\n",
       "    </tr>\n",
       "  </thead>\n",
       "  <tbody>\n",
       "    <tr>\n",
       "      <th>0</th>\n",
       "      <td>im feel like i now have the time to invest in ...</td>\n",
       "      <td>q7ygqc0wetve1pgq7998ef1l3h3ghomc</td>\n",
       "    </tr>\n",
       "    <tr>\n",
       "      <th>1</th>\n",
       "      <td>i have lots of creative pursuits that i often ...</td>\n",
       "      <td>qsle0bp9xi6c9n0nic0qsle0ma3xovzq</td>\n",
       "    </tr>\n",
       "    <tr>\n",
       "      <th>3</th>\n",
       "      <td>i have more time to study i am able to spend v...</td>\n",
       "      <td>d7x57388oj9pfzwzwod7x5738uex2vna</td>\n",
       "    </tr>\n",
       "    <tr>\n",
       "      <th>4</th>\n",
       "      <td>recently moved house so i am very busy i am no...</td>\n",
       "      <td>08h6epyvgp4h1722y08h6epy986gkfnt</td>\n",
       "    </tr>\n",
       "    <tr>\n",
       "      <th>5</th>\n",
       "      <td>im looking at the positives and this is bonus ...</td>\n",
       "      <td>bamyisxeo4bm3islq7tbamy45g3jnlm9</td>\n",
       "    </tr>\n",
       "  </tbody>\n",
       "</table>\n",
       "</div>"
      ],
      "text/plain": [
       "                                                text  \\\n",
       "0  im feel like i now have the time to invest in ...   \n",
       "1  i have lots of creative pursuits that i often ...   \n",
       "3  i have more time to study i am able to spend v...   \n",
       "4  recently moved house so i am very busy i am no...   \n",
       "5  im looking at the positives and this is bonus ...   \n",
       "\n",
       "                              token  \n",
       "0  q7ygqc0wetve1pgq7998ef1l3h3ghomc  \n",
       "1  qsle0bp9xi6c9n0nic0qsle0ma3xovzq  \n",
       "3  d7x57388oj9pfzwzwod7x5738uex2vna  \n",
       "4  08h6epyvgp4h1722y08h6epy986gkfnt  \n",
       "5  bamyisxeo4bm3islq7tbamy45g3jnlm9  "
      ]
     },
     "execution_count": 78,
     "metadata": {},
     "output_type": "execute_result"
    }
   ],
   "source": [
    "def  clean_text(df, text_field):\n",
    "    df[text_field] = df[text_field].str.lower()\n",
    "    df[text_field] = df[text_field].apply(lambda elem: re.sub(r\"(@[A-Za-z0-9]+)|([^0-9A-Za-z \\t])|(\\w+:\\/\\/\\S+)|^rt|http.+?\", \"\", elem))  \n",
    "    return df\n",
    "\n",
    "why_enjoying_it = clean_text(why_enjoying_it, \"text\")\n",
    "why_enjoying_it.head()"
   ]
  },
  {
   "cell_type": "code",
   "execution_count": 79,
   "metadata": {},
   "outputs": [
    {
     "data": {
      "text/html": [
       "<div>\n",
       "<style scoped>\n",
       "    .dataframe tbody tr th:only-of-type {\n",
       "        vertical-align: middle;\n",
       "    }\n",
       "\n",
       "    .dataframe tbody tr th {\n",
       "        vertical-align: top;\n",
       "    }\n",
       "\n",
       "    .dataframe thead th {\n",
       "        text-align: right;\n",
       "    }\n",
       "</style>\n",
       "<table border=\"1\" class=\"dataframe\">\n",
       "  <thead>\n",
       "    <tr style=\"text-align: right;\">\n",
       "      <th></th>\n",
       "      <th>text</th>\n",
       "      <th>token</th>\n",
       "    </tr>\n",
       "  </thead>\n",
       "  <tbody>\n",
       "    <tr>\n",
       "      <th>0</th>\n",
       "      <td>im feel like time invest im active ive started...</td>\n",
       "      <td>q7ygqc0wetve1pgq7998ef1l3h3ghomc</td>\n",
       "    </tr>\n",
       "    <tr>\n",
       "      <th>1</th>\n",
       "      <td>lots creative pursuits often dont time really ...</td>\n",
       "      <td>qsle0bp9xi6c9n0nic0qsle0ma3xovzq</td>\n",
       "    </tr>\n",
       "    <tr>\n",
       "      <th>3</th>\n",
       "      <td>time study able spend valuable time family get...</td>\n",
       "      <td>d7x57388oj9pfzwzwod7x5738uex2vna</td>\n",
       "    </tr>\n",
       "    <tr>\n",
       "      <th>4</th>\n",
       "      <td>recently moved house busy sure would feel wasn...</td>\n",
       "      <td>08h6epyvgp4h1722y08h6epy986gkfnt</td>\n",
       "    </tr>\n",
       "    <tr>\n",
       "      <th>5</th>\n",
       "      <td>im looking positives bonus time giving time wo...</td>\n",
       "      <td>bamyisxeo4bm3islq7tbamy45g3jnlm9</td>\n",
       "    </tr>\n",
       "  </tbody>\n",
       "</table>\n",
       "</div>"
      ],
      "text/plain": [
       "                                                text  \\\n",
       "0  im feel like time invest im active ive started...   \n",
       "1  lots creative pursuits often dont time really ...   \n",
       "3  time study able spend valuable time family get...   \n",
       "4  recently moved house busy sure would feel wasn...   \n",
       "5  im looking positives bonus time giving time wo...   \n",
       "\n",
       "                              token  \n",
       "0  q7ygqc0wetve1pgq7998ef1l3h3ghomc  \n",
       "1  qsle0bp9xi6c9n0nic0qsle0ma3xovzq  \n",
       "3  d7x57388oj9pfzwzwod7x5738uex2vna  \n",
       "4  08h6epyvgp4h1722y08h6epy986gkfnt  \n",
       "5  bamyisxeo4bm3islq7tbamy45g3jnlm9  "
      ]
     },
     "execution_count": 79,
     "metadata": {},
     "output_type": "execute_result"
    }
   ],
   "source": [
    "stop = stopwords.words('english')\n",
    "why_enjoying_it['text'] = why_enjoying_it['text'].apply(lambda x: ' '.join([word for word in x.split() if word not in (stop)]))\n",
    "why_enjoying_it.head()"
   ]
  },
  {
   "cell_type": "code",
   "execution_count": 81,
   "metadata": {},
   "outputs": [
    {
     "data": {
      "image/png": "[encoded data removed]",
      "text/plain": [
       "<Figure size 1080x720 with 1 Axes>"
      ]
     },
     "metadata": {
      "needs_background": "light"
     },
     "output_type": "display_data"
    },
    {
     "data": {
      "text/plain": [
       "<matplotlib.axes._subplots.AxesSubplot at 0x13a2eaf90>"
      ]
     },
     "execution_count": 81,
     "metadata": {},
     "output_type": "execute_result"
    }
   ],
   "source": [
    "import matplotlib.pyplot as plt\n",
    "%matplotlib inline\n",
    "from sklearn.feature_extraction.text import CountVectorizer\n",
    "from yellowbrick.text import FreqDistVisualizer\n",
    "vectorizer = CountVectorizer()\n",
    "docs       = vectorizer.fit_transform(why_enjoying_it['text'])\n",
    "features   = vectorizer.get_feature_names()\n",
    "visualizer = FreqDistVisualizer(features=features, orient='v', size=(1080, 720), title='Frequency of top 50 occurring words in responses to: Thats great to hear, can you tell me why youre enjoying it?')\n",
    "visualizer.fit(docs)\n",
    "visualizer.show()"
   ]
  },
  {
   "cell_type": "markdown",
   "metadata": {},
   "source": [
    "### What would help you text reponse analysis and cleaning"
   ]
  },
  {
   "cell_type": "code",
   "execution_count": 85,
   "metadata": {},
   "outputs": [
    {
     "data": {
      "text/html": [
       "<div>\n",
       "<style scoped>\n",
       "    .dataframe tbody tr th:only-of-type {\n",
       "        vertical-align: middle;\n",
       "    }\n",
       "\n",
       "    .dataframe tbody tr th {\n",
       "        vertical-align: top;\n",
       "    }\n",
       "\n",
       "    .dataframe thead th {\n",
       "        text-align: right;\n",
       "    }\n",
       "</style>\n",
       "<table border=\"1\" class=\"dataframe\">\n",
       "  <thead>\n",
       "    <tr style=\"text-align: right;\">\n",
       "      <th></th>\n",
       "      <th>text</th>\n",
       "      <th>token</th>\n",
       "    </tr>\n",
       "  </thead>\n",
       "  <tbody>\n",
       "    <tr>\n",
       "      <th>2</th>\n",
       "      <td>hmmmgood question ive been asking myself that ...</td>\n",
       "      <td>ia3cphe6oj1358lw2hnmia3cphry4t6x</td>\n",
       "    </tr>\n",
       "    <tr>\n",
       "      <th>6</th>\n",
       "      <td>something real to focus on something to dampen...</td>\n",
       "      <td>k65zamkqx4hd9npk65s5r6llry7m2a4d</td>\n",
       "    </tr>\n",
       "    <tr>\n",
       "      <th>14</th>\n",
       "      <td>something to help give me purpose</td>\n",
       "      <td>yarbka7gdvbfpnufyarl107hyox3f4dc</td>\n",
       "    </tr>\n",
       "    <tr>\n",
       "      <th>15</th>\n",
       "      <td>i am going to try and see if i can get a secon...</td>\n",
       "      <td>cez4n2ji6xhuugapbcez4n7131ndsvxm</td>\n",
       "    </tr>\n",
       "    <tr>\n",
       "      <th>22</th>\n",
       "      <td>cant think of anything anyone can do to help</td>\n",
       "      <td>ol61crh8x6vlp8ol61cl8jedy6we0lnc</td>\n",
       "    </tr>\n",
       "  </tbody>\n",
       "</table>\n",
       "</div>"
      ],
      "text/plain": [
       "                                                 text  \\\n",
       "2   hmmmgood question ive been asking myself that ...   \n",
       "6   something real to focus on something to dampen...   \n",
       "14                  something to help give me purpose   \n",
       "15  i am going to try and see if i can get a secon...   \n",
       "22       cant think of anything anyone can do to help   \n",
       "\n",
       "                               token  \n",
       "2   ia3cphe6oj1358lw2hnmia3cphry4t6x  \n",
       "6   k65zamkqx4hd9npk65s5r6llry7m2a4d  \n",
       "14  yarbka7gdvbfpnufyarl107hyox3f4dc  \n",
       "15  cez4n2ji6xhuugapbcez4n7131ndsvxm  \n",
       "22  ol61crh8x6vlp8ol61cl8jedy6we0lnc  "
      ]
     },
     "execution_count": 85,
     "metadata": {},
     "output_type": "execute_result"
    }
   ],
   "source": [
    "def  clean_text(df, text_field):\n",
    "    df[text_field] = df[text_field].str.lower()\n",
    "    df[text_field] = df[text_field].apply(lambda elem: re.sub(r\"(@[A-Za-z0-9]+)|([^0-9A-Za-z \\t])|(\\w+:\\/\\/\\S+)|^rt|http.+?\", \"\", elem))  \n",
    "    return df\n",
    "\n",
    "what_would_help_you = clean_text(what_would_help_you, \"text\")\n",
    "what_would_help_you.head()"
   ]
  },
  {
   "cell_type": "code",
   "execution_count": 86,
   "metadata": {},
   "outputs": [
    {
     "data": {
      "text/html": [
       "<div>\n",
       "<style scoped>\n",
       "    .dataframe tbody tr th:only-of-type {\n",
       "        vertical-align: middle;\n",
       "    }\n",
       "\n",
       "    .dataframe tbody tr th {\n",
       "        vertical-align: top;\n",
       "    }\n",
       "\n",
       "    .dataframe thead th {\n",
       "        text-align: right;\n",
       "    }\n",
       "</style>\n",
       "<table border=\"1\" class=\"dataframe\">\n",
       "  <thead>\n",
       "    <tr style=\"text-align: right;\">\n",
       "      <th></th>\n",
       "      <th>text</th>\n",
       "      <th>token</th>\n",
       "    </tr>\n",
       "  </thead>\n",
       "  <tbody>\n",
       "    <tr>\n",
       "      <th>2</th>\n",
       "      <td>hmmmgood question ive asking think finding pur...</td>\n",
       "      <td>ia3cphe6oj1358lw2hnmia3cphry4t6x</td>\n",
       "    </tr>\n",
       "    <tr>\n",
       "      <th>6</th>\n",
       "      <td>something real focus something dampen anxiety</td>\n",
       "      <td>k65zamkqx4hd9npk65s5r6llry7m2a4d</td>\n",
       "    </tr>\n",
       "    <tr>\n",
       "      <th>14</th>\n",
       "      <td>something help give purpose</td>\n",
       "      <td>yarbka7gdvbfpnufyarl107hyox3f4dc</td>\n",
       "    </tr>\n",
       "    <tr>\n",
       "      <th>15</th>\n",
       "      <td>going try see get second job whilst furlough v...</td>\n",
       "      <td>cez4n2ji6xhuugapbcez4n7131ndsvxm</td>\n",
       "    </tr>\n",
       "    <tr>\n",
       "      <th>22</th>\n",
       "      <td>cant think anything anyone help</td>\n",
       "      <td>ol61crh8x6vlp8ol61cl8jedy6we0lnc</td>\n",
       "    </tr>\n",
       "  </tbody>\n",
       "</table>\n",
       "</div>"
      ],
      "text/plain": [
       "                                                 text  \\\n",
       "2   hmmmgood question ive asking think finding pur...   \n",
       "6       something real focus something dampen anxiety   \n",
       "14                        something help give purpose   \n",
       "15  going try see get second job whilst furlough v...   \n",
       "22                    cant think anything anyone help   \n",
       "\n",
       "                               token  \n",
       "2   ia3cphe6oj1358lw2hnmia3cphry4t6x  \n",
       "6   k65zamkqx4hd9npk65s5r6llry7m2a4d  \n",
       "14  yarbka7gdvbfpnufyarl107hyox3f4dc  \n",
       "15  cez4n2ji6xhuugapbcez4n7131ndsvxm  \n",
       "22  ol61crh8x6vlp8ol61cl8jedy6we0lnc  "
      ]
     },
     "execution_count": 86,
     "metadata": {},
     "output_type": "execute_result"
    }
   ],
   "source": [
    "stop = stopwords.words('english')\n",
    "what_would_help_you['text'] = what_would_help_you['text'].apply(lambda x: ' '.join([word for word in x.split() if word not in (stop)]))\n",
    "what_would_help_you.head()"
   ]
  },
  {
   "cell_type": "code",
   "execution_count": 87,
   "metadata": {},
   "outputs": [
    {
     "data": {
      "image/png": "[encoded data removed]",
      "text/plain": [
       "<Figure size 1080x720 with 1 Axes>"
      ]
     },
     "metadata": {
      "needs_background": "light"
     },
     "output_type": "display_data"
    },
    {
     "data": {
      "text/plain": [
       "<matplotlib.axes._subplots.AxesSubplot at 0x13aa29510>"
      ]
     },
     "execution_count": 87,
     "metadata": {},
     "output_type": "execute_result"
    }
   ],
   "source": [
    "import matplotlib.pyplot as plt\n",
    "%matplotlib inline\n",
    "from sklearn.feature_extraction.text import CountVectorizer\n",
    "from yellowbrick.text import FreqDistVisualizer\n",
    "vectorizer = CountVectorizer()\n",
    "docs       = vectorizer.fit_transform(what_would_help_you['text'])\n",
    "features   = vectorizer.get_feature_names()\n",
    "visualizer = FreqDistVisualizer(features=features, orient='v', size=(1080, 720), title='Frequency of top 50 occurring words in responses to: What would help you most right now?')\n",
    "visualizer.fit(docs)\n",
    "visualizer.show()"
   ]
  },
  {
   "cell_type": "markdown",
   "metadata": {},
   "source": [
    "### That's really good to hear, why do you think that is? text reponse analysis and cleaning"
   ]
  },
  {
   "cell_type": "code",
   "execution_count": 88,
   "metadata": {},
   "outputs": [
    {
     "data": {
      "text/html": [
       "<div>\n",
       "<style scoped>\n",
       "    .dataframe tbody tr th:only-of-type {\n",
       "        vertical-align: middle;\n",
       "    }\n",
       "\n",
       "    .dataframe tbody tr th {\n",
       "        vertical-align: top;\n",
       "    }\n",
       "\n",
       "    .dataframe thead th {\n",
       "        text-align: right;\n",
       "    }\n",
       "</style>\n",
       "<table border=\"1\" class=\"dataframe\">\n",
       "  <thead>\n",
       "    <tr style=\"text-align: right;\">\n",
       "      <th></th>\n",
       "      <th>text</th>\n",
       "      <th>token</th>\n",
       "    </tr>\n",
       "  </thead>\n",
       "  <tbody>\n",
       "    <tr>\n",
       "      <th>8</th>\n",
       "      <td>i feel kept in the loop with all areas of the ...</td>\n",
       "      <td>38ngqogsgcz9yf21zkn38ngqo5a0d5tt</td>\n",
       "    </tr>\n",
       "    <tr>\n",
       "      <th>10</th>\n",
       "      <td>have purpose and am making a difference</td>\n",
       "      <td>vy3xvdok30la8evvy38vtocv8aziyybj</td>\n",
       "    </tr>\n",
       "    <tr>\n",
       "      <th>18</th>\n",
       "      <td>the members of the multi channel team that are...</td>\n",
       "      <td>srbj2kw8fw3ch6u0srbj2bv1gm7acqcd</td>\n",
       "    </tr>\n",
       "    <tr>\n",
       "      <th>19</th>\n",
       "      <td>everyone working well together and now everyth...</td>\n",
       "      <td>oi60l1bosyhyhkcucu6oi60lzd5oz21u</td>\n",
       "    </tr>\n",
       "    <tr>\n",
       "      <th>21</th>\n",
       "      <td>working with a team member who has the opposit...</td>\n",
       "      <td>i10kxbekzt4e5i10c91qa6wur15c2vle</td>\n",
       "    </tr>\n",
       "  </tbody>\n",
       "</table>\n",
       "</div>"
      ],
      "text/plain": [
       "                                                 text  \\\n",
       "8   i feel kept in the loop with all areas of the ...   \n",
       "10            have purpose and am making a difference   \n",
       "18  the members of the multi channel team that are...   \n",
       "19  everyone working well together and now everyth...   \n",
       "21  working with a team member who has the opposit...   \n",
       "\n",
       "                               token  \n",
       "8   38ngqogsgcz9yf21zkn38ngqo5a0d5tt  \n",
       "10  vy3xvdok30la8evvy38vtocv8aziyybj  \n",
       "18  srbj2kw8fw3ch6u0srbj2bv1gm7acqcd  \n",
       "19  oi60l1bosyhyhkcucu6oi60lzd5oz21u  \n",
       "21  i10kxbekzt4e5i10c91qa6wur15c2vle  "
      ]
     },
     "execution_count": 88,
     "metadata": {},
     "output_type": "execute_result"
    }
   ],
   "source": [
    "def  clean_text(df, text_field):\n",
    "    df[text_field] = df[text_field].str.lower()\n",
    "    df[text_field] = df[text_field].apply(lambda elem: re.sub(r\"(@[A-Za-z0-9]+)|([^0-9A-Za-z \\t])|(\\w+:\\/\\/\\S+)|^rt|http.+?\", \"\", elem))  \n",
    "    return df\n",
    "\n",
    "what_think_that_is = clean_text(what_think_that_is, \"text\")\n",
    "what_think_that_is.head()"
   ]
  },
  {
   "cell_type": "code",
   "execution_count": 89,
   "metadata": {},
   "outputs": [
    {
     "data": {
      "text/html": [
       "<div>\n",
       "<style scoped>\n",
       "    .dataframe tbody tr th:only-of-type {\n",
       "        vertical-align: middle;\n",
       "    }\n",
       "\n",
       "    .dataframe tbody tr th {\n",
       "        vertical-align: top;\n",
       "    }\n",
       "\n",
       "    .dataframe thead th {\n",
       "        text-align: right;\n",
       "    }\n",
       "</style>\n",
       "<table border=\"1\" class=\"dataframe\">\n",
       "  <thead>\n",
       "    <tr style=\"text-align: right;\">\n",
       "      <th></th>\n",
       "      <th>text</th>\n",
       "      <th>token</th>\n",
       "    </tr>\n",
       "  </thead>\n",
       "  <tbody>\n",
       "    <tr>\n",
       "      <th>8</th>\n",
       "      <td>feel kept loop areas caretaker team full trans...</td>\n",
       "      <td>38ngqogsgcz9yf21zkn38ngqo5a0d5tt</td>\n",
       "    </tr>\n",
       "    <tr>\n",
       "      <th>10</th>\n",
       "      <td>purpose making difference</td>\n",
       "      <td>vy3xvdok30la8evvy38vtocv8aziyybj</td>\n",
       "    </tr>\n",
       "    <tr>\n",
       "      <th>18</th>\n",
       "      <td>members multi channel team 10 us rather around...</td>\n",
       "      <td>srbj2kw8fw3ch6u0srbj2bv1gm7acqcd</td>\n",
       "    </tr>\n",
       "    <tr>\n",
       "      <th>19</th>\n",
       "      <td>everyone working well together everything cent...</td>\n",
       "      <td>oi60l1bosyhyhkcucu6oi60lzd5oz21u</td>\n",
       "    </tr>\n",
       "    <tr>\n",
       "      <th>21</th>\n",
       "      <td>working team member opposite skills set yet th...</td>\n",
       "      <td>i10kxbekzt4e5i10c91qa6wur15c2vle</td>\n",
       "    </tr>\n",
       "  </tbody>\n",
       "</table>\n",
       "</div>"
      ],
      "text/plain": [
       "                                                 text  \\\n",
       "8   feel kept loop areas caretaker team full trans...   \n",
       "10                          purpose making difference   \n",
       "18  members multi channel team 10 us rather around...   \n",
       "19  everyone working well together everything cent...   \n",
       "21  working team member opposite skills set yet th...   \n",
       "\n",
       "                               token  \n",
       "8   38ngqogsgcz9yf21zkn38ngqo5a0d5tt  \n",
       "10  vy3xvdok30la8evvy38vtocv8aziyybj  \n",
       "18  srbj2kw8fw3ch6u0srbj2bv1gm7acqcd  \n",
       "19  oi60l1bosyhyhkcucu6oi60lzd5oz21u  \n",
       "21  i10kxbekzt4e5i10c91qa6wur15c2vle  "
      ]
     },
     "execution_count": 89,
     "metadata": {},
     "output_type": "execute_result"
    }
   ],
   "source": [
    "stop = stopwords.words('english')\n",
    "what_think_that_is['text'] = what_think_that_is['text'].apply(lambda x: ' '.join([word for word in x.split() if word not in (stop)]))\n",
    "what_think_that_is.head()"
   ]
  },
  {
   "cell_type": "code",
   "execution_count": 90,
   "metadata": {},
   "outputs": [
    {
     "data": {
      "image/png": "[encoded data removed]",
      "text/plain": [
       "<Figure size 1080x720 with 1 Axes>"
      ]
     },
     "metadata": {
      "needs_background": "light"
     },
     "output_type": "display_data"
    },
    {
     "data": {
      "text/plain": [
       "<matplotlib.axes._subplots.AxesSubplot at 0x13b4809d0>"
      ]
     },
     "execution_count": 90,
     "metadata": {},
     "output_type": "execute_result"
    }
   ],
   "source": [
    "import matplotlib.pyplot as plt\n",
    "%matplotlib inline\n",
    "from sklearn.feature_extraction.text import CountVectorizer\n",
    "from yellowbrick.text import FreqDistVisualizer\n",
    "vectorizer = CountVectorizer()\n",
    "docs       = vectorizer.fit_transform(what_think_that_is['text'])\n",
    "features   = vectorizer.get_feature_names()\n",
    "visualizer = FreqDistVisualizer(features=features, orient='v', size=(1080, 720), title='Frequency of top 50 occurring words in responses to: Thats really good to hear, why do you think that is?')\n",
    "visualizer.fit(docs)\n",
    "visualizer.show()"
   ]
  },
  {
   "cell_type": "markdown",
   "metadata": {},
   "source": [
    "### Have you learned anything new about yourself? text reponse analysis and cleaning"
   ]
  },
  {
   "cell_type": "code",
   "execution_count": 92,
   "metadata": {},
   "outputs": [
    {
     "data": {
      "text/html": [
       "<div>\n",
       "<style scoped>\n",
       "    .dataframe tbody tr th:only-of-type {\n",
       "        vertical-align: middle;\n",
       "    }\n",
       "\n",
       "    .dataframe tbody tr th {\n",
       "        vertical-align: top;\n",
       "    }\n",
       "\n",
       "    .dataframe thead th {\n",
       "        text-align: right;\n",
       "    }\n",
       "</style>\n",
       "<table border=\"1\" class=\"dataframe\">\n",
       "  <thead>\n",
       "    <tr style=\"text-align: right;\">\n",
       "      <th></th>\n",
       "      <th>text</th>\n",
       "      <th>token</th>\n",
       "    </tr>\n",
       "  </thead>\n",
       "  <tbody>\n",
       "    <tr>\n",
       "      <th>0</th>\n",
       "      <td>i enjoy being at home more than i thought</td>\n",
       "      <td>q7ygqc0wetve1pgq7998ef1l3h3ghomc</td>\n",
       "    </tr>\n",
       "    <tr>\n",
       "      <th>1</th>\n",
       "      <td>im definitely obsessively productive if i have...</td>\n",
       "      <td>qsle0bp9xi6c9n0nic0qsle0ma3xovzq</td>\n",
       "    </tr>\n",
       "    <tr>\n",
       "      <th>3</th>\n",
       "      <td>yes i do need structure so i have to plan each...</td>\n",
       "      <td>d7x57388oj9pfzwzwod7x5738uex2vna</td>\n",
       "    </tr>\n",
       "    <tr>\n",
       "      <th>4</th>\n",
       "      <td>i took things for granted and can be impatient...</td>\n",
       "      <td>08h6epyvgp4h1722y08h6epy986gkfnt</td>\n",
       "    </tr>\n",
       "    <tr>\n",
       "      <th>5</th>\n",
       "      <td>not as yet</td>\n",
       "      <td>bamyisxeo4bm3islq7tbamy45g3jnlm9</td>\n",
       "    </tr>\n",
       "  </tbody>\n",
       "</table>\n",
       "</div>"
      ],
      "text/plain": [
       "                                                text  \\\n",
       "0          i enjoy being at home more than i thought   \n",
       "1  im definitely obsessively productive if i have...   \n",
       "3  yes i do need structure so i have to plan each...   \n",
       "4  i took things for granted and can be impatient...   \n",
       "5                                         not as yet   \n",
       "\n",
       "                              token  \n",
       "0  q7ygqc0wetve1pgq7998ef1l3h3ghomc  \n",
       "1  qsle0bp9xi6c9n0nic0qsle0ma3xovzq  \n",
       "3  d7x57388oj9pfzwzwod7x5738uex2vna  \n",
       "4  08h6epyvgp4h1722y08h6epy986gkfnt  \n",
       "5  bamyisxeo4bm3islq7tbamy45g3jnlm9  "
      ]
     },
     "execution_count": 92,
     "metadata": {},
     "output_type": "execute_result"
    }
   ],
   "source": [
    "def  clean_text(df, text_field):\n",
    "    df[text_field] = df[text_field].str.lower()\n",
    "    df[text_field] = df[text_field].apply(lambda elem: re.sub(r\"(@[A-Za-z0-9]+)|([^0-9A-Za-z \\t])|(\\w+:\\/\\/\\S+)|^rt|http.+?\", \"\", elem))  \n",
    "    return df\n",
    "\n",
    "learned_anything = clean_text(learned_anything, \"text\")\n",
    "learned_anything.head()"
   ]
  },
  {
   "cell_type": "code",
   "execution_count": 93,
   "metadata": {},
   "outputs": [
    {
     "data": {
      "text/html": [
       "<div>\n",
       "<style scoped>\n",
       "    .dataframe tbody tr th:only-of-type {\n",
       "        vertical-align: middle;\n",
       "    }\n",
       "\n",
       "    .dataframe tbody tr th {\n",
       "        vertical-align: top;\n",
       "    }\n",
       "\n",
       "    .dataframe thead th {\n",
       "        text-align: right;\n",
       "    }\n",
       "</style>\n",
       "<table border=\"1\" class=\"dataframe\">\n",
       "  <thead>\n",
       "    <tr style=\"text-align: right;\">\n",
       "      <th></th>\n",
       "      <th>text</th>\n",
       "      <th>token</th>\n",
       "    </tr>\n",
       "  </thead>\n",
       "  <tbody>\n",
       "    <tr>\n",
       "      <th>0</th>\n",
       "      <td>enjoy home thought</td>\n",
       "      <td>q7ygqc0wetve1pgq7998ef1l3h3ghomc</td>\n",
       "    </tr>\n",
       "    <tr>\n",
       "      <th>1</th>\n",
       "      <td>im definitely obsessively productive day im re...</td>\n",
       "      <td>qsle0bp9xi6c9n0nic0qsle0ma3xovzq</td>\n",
       "    </tr>\n",
       "    <tr>\n",
       "      <th>3</th>\n",
       "      <td>yes need structure plan day even simple things...</td>\n",
       "      <td>d7x57388oj9pfzwzwod7x5738uex2vna</td>\n",
       "    </tr>\n",
       "    <tr>\n",
       "      <th>4</th>\n",
       "      <td>took things granted impatient need learn relax...</td>\n",
       "      <td>08h6epyvgp4h1722y08h6epy986gkfnt</td>\n",
       "    </tr>\n",
       "    <tr>\n",
       "      <th>5</th>\n",
       "      <td>yet</td>\n",
       "      <td>bamyisxeo4bm3islq7tbamy45g3jnlm9</td>\n",
       "    </tr>\n",
       "  </tbody>\n",
       "</table>\n",
       "</div>"
      ],
      "text/plain": [
       "                                                text  \\\n",
       "0                                 enjoy home thought   \n",
       "1  im definitely obsessively productive day im re...   \n",
       "3  yes need structure plan day even simple things...   \n",
       "4  took things granted impatient need learn relax...   \n",
       "5                                                yet   \n",
       "\n",
       "                              token  \n",
       "0  q7ygqc0wetve1pgq7998ef1l3h3ghomc  \n",
       "1  qsle0bp9xi6c9n0nic0qsle0ma3xovzq  \n",
       "3  d7x57388oj9pfzwzwod7x5738uex2vna  \n",
       "4  08h6epyvgp4h1722y08h6epy986gkfnt  \n",
       "5  bamyisxeo4bm3islq7tbamy45g3jnlm9  "
      ]
     },
     "execution_count": 93,
     "metadata": {},
     "output_type": "execute_result"
    }
   ],
   "source": [
    "stop = stopwords.words('english')\n",
    "learned_anything['text'] = learned_anything['text'].apply(lambda x: ' '.join([word for word in x.split() if word not in (stop)]))\n",
    "learned_anything.head()"
   ]
  },
  {
   "cell_type": "code",
   "execution_count": 94,
   "metadata": {},
   "outputs": [
    {
     "data": {
      "image/png": "[encoded data removed]",
      "text/plain": [
       "<Figure size 1080x720 with 1 Axes>"
      ]
     },
     "metadata": {
      "needs_background": "light"
     },
     "output_type": "display_data"
    },
    {
     "data": {
      "text/plain": [
       "<matplotlib.axes._subplots.AxesSubplot at 0x13acd5c10>"
      ]
     },
     "execution_count": 94,
     "metadata": {},
     "output_type": "execute_result"
    }
   ],
   "source": [
    "import matplotlib.pyplot as plt\n",
    "%matplotlib inline\n",
    "from sklearn.feature_extraction.text import CountVectorizer\n",
    "from yellowbrick.text import FreqDistVisualizer\n",
    "vectorizer = CountVectorizer()\n",
    "docs       = vectorizer.fit_transform(learned_anything['text'])\n",
    "features   = vectorizer.get_feature_names()\n",
    "visualizer = FreqDistVisualizer(features=features, orient='v', size=(1080, 720), title='Frequency of top 50 occurring words in responses to: Have you learned anything new about yourself?')\n",
    "visualizer.fit(docs)\n",
    "visualizer.show()"
   ]
  },
  {
   "cell_type": "code",
   "execution_count": null,
   "metadata": {},
   "outputs": [],
   "source": []
  }
 ],
 "metadata": {
  "kernelspec": {
   "display_name": "Python 3.7 (furlough-feelings)",
   "language": "python",
   "name": "furlough-feelings"
  },
  "language_info": {
   "codemirror_mode": {
    "name": "ipython",
    "version": 3
   },
   "file_extension": ".py",
   "mimetype": "text/x-python",
   "name": "python",
   "nbconvert_exporter": "python",
   "pygments_lexer": "ipython3",
   "version": "3.7.4"
  }
 },
 "nbformat": 4,
 "nbformat_minor": 4
}
